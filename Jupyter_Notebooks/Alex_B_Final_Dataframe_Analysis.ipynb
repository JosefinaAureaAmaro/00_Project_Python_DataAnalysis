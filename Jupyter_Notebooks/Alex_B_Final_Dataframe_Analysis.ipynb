{
 "cells": [
  {
   "cell_type": "code",
   "execution_count": null,
   "metadata": {},
   "outputs": [],
   "source": [
    "%matplotlib inline\n",
    "import pandas as pd\n",
    "import numpy as np\n",
    "\n",
    "# Dependencies and Setup\n",
    "import matplotlib.pyplot as plt"
   ]
  },
  {
   "cell_type": "markdown",
   "metadata": {},
   "source": [
    "## Order of Operations \n",
    "- Read csv(s)\n",
    "- Removing unnessary headers from dataframe of WDI Data (df)\n",
    "- Filter the dataframe (df) for relevant country names \n",
    "- Filer the dataframe (df) for relevant indicators"
   ]
  },
  {
   "cell_type": "code",
   "execution_count": null,
   "metadata": {},
   "outputs": [],
   "source": [
    "#to read csv of data\n",
    "df= pd.read_csv('../WDIData.csv')\n",
    "\n",
    "#to read csv of country names\n",
    "df_country_names= pd.read_csv('./WDI_Country_Code_and_Names.csv')\n",
    "\n",
    "#to read csv of indicators\n",
    "df_list_indicators = pd.read_csv('./WDI_list_of_reviewed_indicators.csv')"
   ]
  },
  {
   "cell_type": "markdown",
   "metadata": {},
   "source": [
    "### <font color = red> Dataframe Cleanup </font>"
   ]
  },
  {
   "cell_type": "markdown",
   "metadata": {},
   "source": [
    "#### Removing Columns"
   ]
  },
  {
   "cell_type": "code",
   "execution_count": null,
   "metadata": {},
   "outputs": [],
   "source": [
    "#to grab the headers of the dataset\n",
    "df_headers=list(df.columns.values)"
   ]
  },
  {
   "cell_type": "code",
   "execution_count": null,
   "metadata": {},
   "outputs": [],
   "source": [
    "# to count the number of headers\n",
    "len(df_headers)"
   ]
  },
  {
   "cell_type": "code",
   "execution_count": null,
   "metadata": {},
   "outputs": [],
   "source": [
    "#only pull the headers that are years\n",
    "df_years = df_headers[-59:]"
   ]
  },
  {
   "cell_type": "code",
   "execution_count": null,
   "metadata": {},
   "outputs": [],
   "source": [
    "#only select previous years before 2010\n",
    "df_years_drop = df_years[0:50]\n",
    "#to make column '2018' a list\n",
    "df_years_drop_2018 = list([df_years[-1]])\n",
    "\n",
    "# to combine lists of years into 1 drop line\n",
    "df_drop = df_years_drop + df_years_drop_2018"
   ]
  },
  {
   "cell_type": "code",
   "execution_count": null,
   "metadata": {},
   "outputs": [],
   "source": [
    "#to drop the years and create a summarized df\n",
    "df_columns_removed = df.drop(df_drop,axis=1)\n",
    "df_columns_removed.head()"
   ]
  },
  {
   "cell_type": "markdown",
   "metadata": {},
   "source": [
    "#### Filter by Country Names"
   ]
  },
  {
   "cell_type": "code",
   "execution_count": null,
   "metadata": {},
   "outputs": [],
   "source": [
    "#to preview df_country_names\n",
    "df_country_names.head()\n"
   ]
  },
  {
   "cell_type": "code",
   "execution_count": null,
   "metadata": {},
   "outputs": [],
   "source": [
    "#make a list of country short name\n",
    "country_short_names = list(df_country_names['Short Name'])"
   ]
  },
  {
   "cell_type": "code",
   "execution_count": null,
   "metadata": {},
   "outputs": [],
   "source": [
    "#filter df by short names list\n",
    "df_filter_cols_nd_cols_rem = df_columns_removed.loc[df_columns_removed['Country Name'].isin(country_short_names)]"
   ]
  },
  {
   "cell_type": "code",
   "execution_count": null,
   "metadata": {},
   "outputs": [],
   "source": [
    "#source[filterdfbyalist]: https://stackoverflow.com/questions/12096252/use-a-list-of-values-to-select-rows-from-a-pandas-dataframe"
   ]
  },
  {
   "cell_type": "code",
   "execution_count": null,
   "metadata": {},
   "outputs": [],
   "source": [
    "df_filter_cols_nd_cols_rem.head()"
   ]
  },
  {
   "cell_type": "markdown",
   "metadata": {},
   "source": [
    "#### Filter Data by Indicators"
   ]
  },
  {
   "cell_type": "code",
   "execution_count": null,
   "metadata": {},
   "outputs": [],
   "source": [
    "df_list_indicators.head()"
   ]
  },
  {
   "cell_type": "markdown",
   "metadata": {},
   "source": [
    "#### Per the word doc: 'World_Dev_Indicators_Reviewed_Subjects.docx'\n",
    "\n",
    "Required & Optional indicators for chart preference:\n",
    "\n",
    "- PM2.5 air pollution, mean annual exposure (micrograms per cubic meter)\n",
    "- GDP (constant 2010 US$)\n",
    "- GDP growth (annual %)\n",
    "- Population, total\n",
    "- Population growth (annual %)"
   ]
  },
  {
   "cell_type": "code",
   "execution_count": null,
   "metadata": {},
   "outputs": [],
   "source": [
    "req_nd_opti_indicators = df_list_indicators.loc[df_list_indicators['Indicator Name'].isin([\n",
    "    'PM2.5 air pollution, mean annual exposure (micrograms per cubic meter)',\n",
    "    'GDP (constant 2010 US$)',\n",
    "    'GDP growth (annual %)',\n",
    "    'Population, total',\n",
    "    'Population growth (annual %)',\n",
    "    'Electric power consumption (kWh per capita)'\n",
    "])]\n",
    "\n",
    "req_nd_opti_indicators"
   ]
  },
  {
   "cell_type": "code",
   "execution_count": null,
   "metadata": {},
   "outputs": [],
   "source": [
    "#to make a list of indicators for filter\n",
    "list_indicators = list(req_nd_opti_indicators['Indicator Name'])\n",
    "list_indicators "
   ]
  },
  {
   "cell_type": "code",
   "execution_count": null,
   "metadata": {},
   "outputs": [],
   "source": [
    "#filter by indicators\n",
    "df_countries_indiciator = df_filter_cols_nd_cols_rem.loc[df_filter_cols_nd_cols_rem['Indicator Name'].isin(list_indicators )]\n",
    "df_countries_indiciator.head()"
   ]
  },
  {
   "cell_type": "markdown",
   "metadata": {},
   "source": [
    "#### <font color = purple> Final Dataframe Edit </font>"
   ]
  },
  {
   "cell_type": "code",
   "execution_count": null,
   "metadata": {},
   "outputs": [],
   "source": [
    "#remove unnessecary columns\n",
    "df_final = df_countries_indiciator.drop(['Country Code','Indicator Code'],axis=1)\n",
    "df_final.head()"
   ]
  },
  {
   "cell_type": "markdown",
   "metadata": {},
   "source": [
    "### <font  color = blue >Dataframe for Air Pollution </font>"
   ]
  },
  {
   "cell_type": "code",
   "execution_count": null,
   "metadata": {},
   "outputs": [],
   "source": [
    "#filter df by air pollution\n",
    "air_pollu_df = df_final.loc[df_final[\"Indicator Name\"]== 'PM2.5 air pollution, mean annual exposure (micrograms per cubic meter)'].round(2)\n",
    "air_pollu_df.head()"
   ]
  },
  {
   "cell_type": "markdown",
   "metadata": {},
   "source": [
    "#### <font color = red> Reviewing Air Pollution data for 2009 </font>\n",
    "I'm not including 2009 in the other data sets, becuase they have % annual growth. Meanwhile, air pollution doesn't have % growth. \n",
    "\n",
    "By adding 2009's data we can calculate % growth for 2010 in order to have complete data from 2010 - 2018."
   ]
  },
  {
   "cell_type": "code",
   "execution_count": null,
   "metadata": {},
   "outputs": [],
   "source": [
    "#to get the column for 2009\n",
    "#only select previous years before 2010\n",
    "df_years_drop_air = df_years[0:49]\n",
    "#to make column '2018' a list\n",
    "df_years_drop_2018_air = list([df_years[-1]])\n",
    "\n",
    "# to combine lists of years into 1 drop line\n",
    "df_drop_air = df_years_drop_air + df_years_drop_2018_air "
   ]
  },
  {
   "cell_type": "code",
   "execution_count": null,
   "metadata": {},
   "outputs": [],
   "source": [
    "#to drop the years and create a summarized df\n",
    "df_columns_removed_air = df.drop(df_drop_air,axis=1)\n",
    "\n",
    "#to remove extra columns, and to filter the data by country:\n",
    "df_air = df_columns_removed_air.drop(['Country Code','Indicator Code'],axis=1).loc[df_columns_removed_air['Country Name'].isin(country_short_names)].loc[df_columns_removed_air['Indicator Name']== 'PM2.5 air pollution, mean annual exposure (micrograms per cubic meter)'].set_index('Country Name').reset_index() \n",
    "df_air.head(3)"
   ]
  },
  {
   "cell_type": "markdown",
   "metadata": {},
   "source": [
    "#### <font color=red> Conclusion of 2009 Air Pollution Data </font>\n",
    "\n",
    "From the table above, we can see there is no data in 2009 for PM2.5 thus, when completing your charts use the years 2011 - 2017. \n",
    "\n",
    "Since we do not need air data for 2009 I'll discontinue dataframe \"df_air\" and use going forward \"air_pollu_df\"."
   ]
  },
  {
   "cell_type": "code",
   "execution_count": null,
   "metadata": {},
   "outputs": [],
   "source": [
    "#create a df for percent change of air pollution\n",
    "\n",
    "air_pollu_df_1 = air_pollu_df.drop('Indicator Name', axis = 1).set_index('Country Name')\n",
    "air_pollu_pct_change = air_pollu_df_1.pct_change(axis='columns')\n"
   ]
  },
  {
   "cell_type": "code",
   "execution_count": null,
   "metadata": {},
   "outputs": [],
   "source": [
    "#2010 won't have data bc there is no 2009 data, thus we will drop it\n",
    "air_pollu_pct_change_1 = air_pollu_pct_change.drop('2010', axis = 1)\n",
    "\n",
    "#drop all countries w.o values \n",
    "air_pollu_pct_change_2 = air_pollu_pct_change_1.dropna()\n",
    "\n",
    "#create the % change df \n",
    "air_pollu_pct_change_3 = air_pollu_pct_change_2.multiply(100).round(2).reset_index()\n",
    "air_pollu_pct_change_3.head()\n",
    "\n",
    "#below are percentages"
   ]
  },
  {
   "cell_type": "code",
   "execution_count": null,
   "metadata": {},
   "outputs": [],
   "source": [
    "#to create a total column\n",
    "air_pollu_pct_change_3['Total % Change'] = air_pollu_pct_change_3.iloc[:,1:].sum(axis = 1)\n",
    "air_pollu_pct_change_3.head()"
   ]
  },
  {
   "cell_type": "markdown",
   "metadata": {},
   "source": [
    "### <font color= purple> Dataframe for GDP </font>"
   ]
  },
  {
   "cell_type": "code",
   "execution_count": null,
   "metadata": {},
   "outputs": [],
   "source": [
    "#filter df by GDP Constant\n",
    "GDP_con_df = df_final.loc[df_final[\"Indicator Name\"]== 'GDP (constant 2010 US$)']\n",
    "GDP_con_df.head()"
   ]
  },
  {
   "cell_type": "code",
   "execution_count": null,
   "metadata": {},
   "outputs": [],
   "source": [
    "#filter df by GDP % growth\n",
    "GDP_per_growth_df = df_final.loc[df_final[\"Indicator Name\"]== 'GDP growth (annual %)']\n",
    "GDP_per_growth_df.head()"
   ]
  },
  {
   "cell_type": "markdown",
   "metadata": {},
   "source": [
    "GDP contstant is in exponential form"
   ]
  },
  {
   "cell_type": "markdown",
   "metadata": {},
   "source": [
    "### <font color = orange> Dataframe for Population </font>"
   ]
  },
  {
   "cell_type": "code",
   "execution_count": null,
   "metadata": {},
   "outputs": [],
   "source": [
    "#filter df by GDP Constant\n",
    "pop_total_df = df_final.loc[df_final[\"Indicator Name\"]== 'Population, total']\n",
    "pop_total_df.head()"
   ]
  },
  {
   "cell_type": "code",
   "execution_count": null,
   "metadata": {
    "scrolled": true
   },
   "outputs": [],
   "source": [
    "pop_per_growth_df = df_final.loc[df_final[\"Indicator Name\"]== 'Population growth (annual %)']\n",
    "pop_per_growth_df.head()"
   ]
  },
  {
   "cell_type": "markdown",
   "metadata": {},
   "source": [
    "### electricalllllllllllllllllll"
   ]
  },
  {
   "cell_type": "code",
   "execution_count": null,
   "metadata": {},
   "outputs": [],
   "source": [
    "popit_per_growth_df = df_final.loc[df_final[\"Indicator Name\"]== 'Electric power consumption (kWh per capita)']\n",
    "popit_per_growth_df.head()"
   ]
  },
  {
   "cell_type": "code",
   "execution_count": null,
   "metadata": {},
   "outputs": [],
   "source": [
    "combined_data_df = pd.merge(popit_per_growth_df, GDP_con_df,\n",
    "                                 how='outer', on='Country Name')\n",
    "combined_data_df"
   ]
  },
  {
   "cell_type": "code",
   "execution_count": null,
   "metadata": {},
   "outputs": [],
   "source": []
  },
  {
   "cell_type": "code",
   "execution_count": null,
   "metadata": {},
   "outputs": [],
   "source": [
    "combined_data_df['2014_x_yoy'] = (((combined_data_df['2014_x']/combined_data_df['2010_x']) -1 ) * 100)\n",
    "combined_data_df['2014_y_yoy'] = (((combined_data_df['2014_y']/combined_data_df['2010_y']) -1 ) * 100)\n",
    "combined_data_df.head()"
   ]
  },
  {
   "cell_type": "code",
   "execution_count": null,
   "metadata": {},
   "outputs": [],
   "source": [
    "plt.scatter(combined_data_df['2014_x_yoy'], combined_data_df['2014_y_yoy'], marker=\"x\", facecolors=\"black\", edgecolors=\"red\")"
   ]
  },
  {
   "cell_type": "code",
   "execution_count": null,
   "metadata": {},
   "outputs": [],
   "source": []
  },
  {
   "cell_type": "code",
   "execution_count": null,
   "metadata": {},
   "outputs": [],
   "source": []
  },
  {
   "cell_type": "markdown",
   "metadata": {},
   "source": [
    "### <font color= green> Dataframe for World Charts </font>"
   ]
  },
  {
   "cell_type": "code",
   "execution_count": null,
   "metadata": {},
   "outputs": [],
   "source": [
    "df_w = df_columns_removed.loc[df_columns_removed['Indicator Name'].isin(list_indicators )].drop(['Country Code','Indicator Code'],axis=1)\n",
    "df_w.head()"
   ]
  },
  {
   "cell_type": "code",
   "execution_count": null,
   "metadata": {},
   "outputs": [],
   "source": [
    "df_w_1 = df_w.loc[df_w['Country Name'] == 'World']\n",
    "df_w_2 = df_w_1.drop('Country Name', axis= 1)\n",
    "df_w_3 = df_w_2.rename(columns={'Indicator Name':'Years'})\n",
    "df_w_4 = df_w_3.set_index(\"Years\").T\n",
    "df_w_4.head()"
   ]
  },
  {
   "cell_type": "code",
   "execution_count": null,
   "metadata": {},
   "outputs": [],
   "source": [
    "world_data = df_w_4.rename(columns={\n",
    "                           \"PM2.5 air pollution, mean annual exposure (micrograms per cubic meter)\":\"PM2.5 Air Pollution (Mean Exposure)\",\n",
    "                           \"Population, total\":\"Total Population\"\n",
    "                           })\n",
    "\n",
    "\n",
    "world_data = world_data.apply(pd.to_numeric).round(2)\n",
    "world_data.head()"
   ]
  },
  {
   "cell_type": "markdown",
   "metadata": {},
   "source": [
    "#### Formating Values\n",
    "The values need to be formated, however, it may be better to do that once the data can be classified as a series rather than a dataframe.\n",
    "\n",
    "Thus we'll format in the final stage before graphing."
   ]
  },
  {
   "cell_type": "code",
   "execution_count": null,
   "metadata": {},
   "outputs": [],
   "source": []
  },
  {
   "cell_type": "code",
   "execution_count": null,
   "metadata": {},
   "outputs": [],
   "source": []
  },
  {
   "cell_type": "code",
   "execution_count": null,
   "metadata": {},
   "outputs": [],
   "source": []
  },
  {
   "cell_type": "code",
   "execution_count": null,
   "metadata": {},
   "outputs": [],
   "source": []
  },
  {
   "cell_type": "code",
   "execution_count": null,
   "metadata": {},
   "outputs": [],
   "source": []
  },
  {
   "cell_type": "code",
   "execution_count": null,
   "metadata": {},
   "outputs": [],
   "source": []
  },
  {
   "cell_type": "code",
   "execution_count": null,
   "metadata": {},
   "outputs": [],
   "source": []
  },
  {
   "cell_type": "code",
   "execution_count": null,
   "metadata": {},
   "outputs": [],
   "source": []
  },
  {
   "cell_type": "code",
   "execution_count": null,
   "metadata": {},
   "outputs": [],
   "source": []
  },
  {
   "cell_type": "code",
   "execution_count": null,
   "metadata": {},
   "outputs": [],
   "source": []
  }
 ],
 "metadata": {
  "kernelspec": {
   "display_name": "Python 3",
   "language": "python",
   "name": "python3"
  },
  "language_info": {
   "codemirror_mode": {
    "name": "ipython",
    "version": 3
   },
   "file_extension": ".py",
   "mimetype": "text/x-python",
   "name": "python",
   "nbconvert_exporter": "python",
   "pygments_lexer": "ipython3",
   "version": "3.7.3"
  }
 },
 "nbformat": 4,
 "nbformat_minor": 2
}
